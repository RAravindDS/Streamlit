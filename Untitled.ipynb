{
 "cells": [
  {
   "cell_type": "code",
   "execution_count": 1,
   "id": "513ffca5-a097-4c22-9c03-8cc5cea476d9",
   "metadata": {
    "collapsed": true,
    "jupyter": {
     "outputs_hidden": true
    },
    "tags": []
   },
   "outputs": [
    {
     "name": "stdout",
     "output_type": "stream",
     "text": [
      "Requirement already satisfied: streamlit in d:\\downloads\\anaconda_god\\envs\\aravind\\lib\\site-packages (1.9.0)\n",
      "Requirement already satisfied: attrs in d:\\downloads\\anaconda_god\\envs\\aravind\\lib\\site-packages (from streamlit) (21.2.0)\n",
      "Requirement already satisfied: pympler>=0.9 in d:\\downloads\\anaconda_god\\envs\\aravind\\lib\\site-packages (from streamlit) (1.0.1)\n",
      "Requirement already satisfied: click<8.1,>=7.0 in d:\\downloads\\anaconda_god\\envs\\aravind\\lib\\site-packages (from streamlit) (8.0.3)\n",
      "Requirement already satisfied: importlib-metadata>=1.4 in d:\\downloads\\anaconda_god\\envs\\aravind\\lib\\site-packages (from streamlit) (4.8.1)\n",
      "Requirement already satisfied: pydeck>=0.1.dev5 in d:\\downloads\\anaconda_god\\envs\\aravind\\lib\\site-packages (from streamlit) (0.7.1)\n",
      "Requirement already satisfied: numpy in d:\\downloads\\anaconda_god\\envs\\aravind\\lib\\site-packages (from streamlit) (1.21.5)\n",
      "Requirement already satisfied: semver in d:\\downloads\\anaconda_god\\envs\\aravind\\lib\\site-packages (from streamlit) (2.13.0)\n",
      "Requirement already satisfied: gitpython!=3.1.19 in d:\\downloads\\anaconda_god\\envs\\aravind\\lib\\site-packages (from streamlit) (3.1.26)\n",
      "Requirement already satisfied: tzlocal in d:\\downloads\\anaconda_god\\envs\\aravind\\lib\\site-packages (from streamlit) (4.1)\n",
      "Requirement already satisfied: altair>=3.2.0 in d:\\downloads\\anaconda_god\\envs\\aravind\\lib\\site-packages (from streamlit) (4.2.0)\n",
      "Requirement already satisfied: cachetools>=4.0 in d:\\downloads\\anaconda_god\\envs\\aravind\\lib\\site-packages (from streamlit) (5.0.0)\n",
      "Requirement already satisfied: blinker in d:\\downloads\\anaconda_god\\envs\\aravind\\lib\\site-packages (from streamlit) (1.4)\n",
      "Requirement already satisfied: toml in d:\\downloads\\anaconda_god\\envs\\aravind\\lib\\site-packages (from streamlit) (0.10.2)\n",
      "Requirement already satisfied: validators in d:\\downloads\\anaconda_god\\envs\\aravind\\lib\\site-packages (from streamlit) (0.19.0)\n",
      "Requirement already satisfied: pillow>=6.2.0 in d:\\downloads\\anaconda_god\\envs\\aravind\\lib\\site-packages (from streamlit) (9.2.0)\n",
      "Requirement already satisfied: protobuf!=3.11,>=3.6.0 in d:\\downloads\\anaconda_god\\envs\\aravind\\lib\\site-packages (from streamlit) (3.19.4)\n",
      "Requirement already satisfied: python-dateutil in d:\\downloads\\anaconda_god\\envs\\aravind\\lib\\site-packages (from streamlit) (2.8.2)\n",
      "Requirement already satisfied: watchdog in d:\\downloads\\anaconda_god\\envs\\aravind\\lib\\site-packages (from streamlit) (2.1.8)\n",
      "Requirement already satisfied: packaging in d:\\downloads\\anaconda_god\\envs\\aravind\\lib\\site-packages (from streamlit) (21.3)\n",
      "Requirement already satisfied: requests in d:\\downloads\\anaconda_god\\envs\\aravind\\lib\\site-packages (from streamlit) (2.27.1)\n",
      "Requirement already satisfied: pandas>=0.21.0 in d:\\downloads\\anaconda_god\\envs\\aravind\\lib\\site-packages (from streamlit) (1.3.4)\n",
      "Requirement already satisfied: tornado>=5.0 in d:\\downloads\\anaconda_god\\envs\\aravind\\lib\\site-packages (from streamlit) (6.1)\n",
      "Requirement already satisfied: pyarrow in d:\\downloads\\anaconda_god\\envs\\aravind\\lib\\site-packages (from streamlit) (8.0.0)\n",
      "Requirement already satisfied: jsonschema>=3.0 in d:\\downloads\\anaconda_god\\envs\\aravind\\lib\\site-packages (from altair>=3.2.0->streamlit) (3.2.0)\n",
      "Requirement already satisfied: entrypoints in d:\\downloads\\anaconda_god\\envs\\aravind\\lib\\site-packages (from altair>=3.2.0->streamlit) (0.3)\n",
      "Requirement already satisfied: toolz in d:\\downloads\\anaconda_god\\envs\\aravind\\lib\\site-packages (from altair>=3.2.0->streamlit) (0.11.2)\n",
      "Requirement already satisfied: jinja2 in d:\\downloads\\anaconda_god\\envs\\aravind\\lib\\site-packages (from altair>=3.2.0->streamlit) (3.0.2)\n",
      "Requirement already satisfied: colorama in d:\\downloads\\anaconda_god\\envs\\aravind\\lib\\site-packages (from click<8.1,>=7.0->streamlit) (0.4.4)\n",
      "Requirement already satisfied: gitdb<5,>=4.0.1 in d:\\downloads\\anaconda_god\\envs\\aravind\\lib\\site-packages (from gitpython!=3.1.19->streamlit) (4.0.9)\n",
      "Requirement already satisfied: smmap<6,>=3.0.1 in d:\\downloads\\anaconda_god\\envs\\aravind\\lib\\site-packages (from gitdb<5,>=4.0.1->gitpython!=3.1.19->streamlit) (5.0.0)\n",
      "Requirement already satisfied: zipp>=0.5 in d:\\downloads\\anaconda_god\\envs\\aravind\\lib\\site-packages (from importlib-metadata>=1.4->streamlit) (3.6.0)\n",
      "Requirement already satisfied: setuptools in d:\\downloads\\anaconda_god\\envs\\aravind\\lib\\site-packages (from jsonschema>=3.0->altair>=3.2.0->streamlit) (58.0.4)\n",
      "Requirement already satisfied: pyrsistent>=0.14.0 in d:\\downloads\\anaconda_god\\envs\\aravind\\lib\\site-packages (from jsonschema>=3.0->altair>=3.2.0->streamlit) (0.18.0)\n",
      "Requirement already satisfied: six>=1.11.0 in d:\\downloads\\anaconda_god\\envs\\aravind\\lib\\site-packages (from jsonschema>=3.0->altair>=3.2.0->streamlit) (1.16.0)\n",
      "Requirement already satisfied: pytz>=2017.3 in d:\\downloads\\anaconda_god\\envs\\aravind\\lib\\site-packages (from pandas>=0.21.0->streamlit) (2021.3)\n",
      "Requirement already satisfied: ipywidgets>=7.0.0 in d:\\downloads\\anaconda_god\\envs\\aravind\\lib\\site-packages (from pydeck>=0.1.dev5->streamlit) (7.6.5)\n",
      "Requirement already satisfied: traitlets>=4.3.2 in d:\\downloads\\anaconda_god\\envs\\aravind\\lib\\site-packages (from pydeck>=0.1.dev5->streamlit) (5.1.1)\n",
      "Requirement already satisfied: ipykernel>=5.1.2 in d:\\downloads\\anaconda_god\\envs\\aravind\\lib\\site-packages (from pydeck>=0.1.dev5->streamlit) (6.4.1)\n",
      "Requirement already satisfied: debugpy<2.0,>=1.0.0 in d:\\downloads\\anaconda_god\\envs\\aravind\\lib\\site-packages (from ipykernel>=5.1.2->pydeck>=0.1.dev5->streamlit) (1.5.1)\n",
      "Requirement already satisfied: matplotlib-inline<0.2.0,>=0.1.0 in d:\\downloads\\anaconda_god\\envs\\aravind\\lib\\site-packages (from ipykernel>=5.1.2->pydeck>=0.1.dev5->streamlit) (0.1.2)\n",
      "Requirement already satisfied: jupyter-client<8.0 in d:\\downloads\\anaconda_god\\envs\\aravind\\lib\\site-packages (from ipykernel>=5.1.2->pydeck>=0.1.dev5->streamlit) (7.0.6)\n",
      "Requirement already satisfied: ipython-genutils in d:\\downloads\\anaconda_god\\envs\\aravind\\lib\\site-packages (from ipykernel>=5.1.2->pydeck>=0.1.dev5->streamlit) (0.2.0)\n",
      "Requirement already satisfied: ipython<8.0,>=7.23.1 in d:\\downloads\\anaconda_god\\envs\\aravind\\lib\\site-packages (from ipykernel>=5.1.2->pydeck>=0.1.dev5->streamlit) (7.29.0)\n",
      "Requirement already satisfied: pygments in d:\\downloads\\anaconda_god\\envs\\aravind\\lib\\site-packages (from ipython<8.0,>=7.23.1->ipykernel>=5.1.2->pydeck>=0.1.dev5->streamlit) (2.10.0)\n",
      "Requirement already satisfied: decorator in d:\\downloads\\anaconda_god\\envs\\aravind\\lib\\site-packages (from ipython<8.0,>=7.23.1->ipykernel>=5.1.2->pydeck>=0.1.dev5->streamlit) (5.1.1)\n",
      "Requirement already satisfied: backcall in d:\\downloads\\anaconda_god\\envs\\aravind\\lib\\site-packages (from ipython<8.0,>=7.23.1->ipykernel>=5.1.2->pydeck>=0.1.dev5->streamlit) (0.2.0)\n",
      "Requirement already satisfied: prompt-toolkit!=3.0.0,!=3.0.1,<3.1.0,>=2.0.0 in d:\\downloads\\anaconda_god\\envs\\aravind\\lib\\site-packages (from ipython<8.0,>=7.23.1->ipykernel>=5.1.2->pydeck>=0.1.dev5->streamlit) (3.0.20)\n",
      "Requirement already satisfied: jedi>=0.16 in d:\\downloads\\anaconda_god\\envs\\aravind\\lib\\site-packages (from ipython<8.0,>=7.23.1->ipykernel>=5.1.2->pydeck>=0.1.dev5->streamlit) (0.18.0)\n",
      "Requirement already satisfied: pickleshare in d:\\downloads\\anaconda_god\\envs\\aravind\\lib\\site-packages (from ipython<8.0,>=7.23.1->ipykernel>=5.1.2->pydeck>=0.1.dev5->streamlit) (0.7.5)\n",
      "Requirement already satisfied: nbformat>=4.2.0 in d:\\downloads\\anaconda_god\\envs\\aravind\\lib\\site-packages (from ipywidgets>=7.0.0->pydeck>=0.1.dev5->streamlit) (5.1.3)\n",
      "Requirement already satisfied: widgetsnbextension~=3.5.0 in d:\\downloads\\anaconda_god\\envs\\aravind\\lib\\site-packages (from ipywidgets>=7.0.0->pydeck>=0.1.dev5->streamlit) (3.5.1)\n",
      "Requirement already satisfied: jupyterlab-widgets>=1.0.0 in d:\\downloads\\anaconda_god\\envs\\aravind\\lib\\site-packages (from ipywidgets>=7.0.0->pydeck>=0.1.dev5->streamlit) (1.0.0)\n",
      "Requirement already satisfied: parso<0.9.0,>=0.8.0 in d:\\downloads\\anaconda_god\\envs\\aravind\\lib\\site-packages (from jedi>=0.16->ipython<8.0,>=7.23.1->ipykernel>=5.1.2->pydeck>=0.1.dev5->streamlit) (0.8.2)\n",
      "Requirement already satisfied: MarkupSafe>=2.0 in d:\\downloads\\anaconda_god\\envs\\aravind\\lib\\site-packages (from jinja2->altair>=3.2.0->streamlit) (2.0.1)\n",
      "Requirement already satisfied: nest-asyncio>=1.5 in d:\\downloads\\anaconda_god\\envs\\aravind\\lib\\site-packages (from jupyter-client<8.0->ipykernel>=5.1.2->pydeck>=0.1.dev5->streamlit) (1.5.1)\n",
      "Requirement already satisfied: jupyter-core>=4.6.0 in d:\\downloads\\anaconda_god\\envs\\aravind\\lib\\site-packages (from jupyter-client<8.0->ipykernel>=5.1.2->pydeck>=0.1.dev5->streamlit) (4.9.1)\n",
      "Requirement already satisfied: pyzmq>=13 in d:\\downloads\\anaconda_god\\envs\\aravind\\lib\\site-packages (from jupyter-client<8.0->ipykernel>=5.1.2->pydeck>=0.1.dev5->streamlit) (22.3.0)\n",
      "Requirement already satisfied: pywin32>=1.0 in d:\\downloads\\anaconda_god\\envs\\aravind\\lib\\site-packages (from jupyter-core>=4.6.0->jupyter-client<8.0->ipykernel>=5.1.2->pydeck>=0.1.dev5->streamlit) (228)\n",
      "Requirement already satisfied: wcwidth in d:\\downloads\\anaconda_god\\envs\\aravind\\lib\\site-packages (from prompt-toolkit!=3.0.0,!=3.0.1,<3.1.0,>=2.0.0->ipython<8.0,>=7.23.1->ipykernel>=5.1.2->pydeck>=0.1.dev5->streamlit) (0.2.5)\n",
      "Requirement already satisfied: notebook>=4.4.1 in d:\\downloads\\anaconda_god\\envs\\aravind\\lib\\site-packages (from widgetsnbextension~=3.5.0->ipywidgets>=7.0.0->pydeck>=0.1.dev5->streamlit) (6.4.6)\n",
      "Requirement already satisfied: prometheus-client in d:\\downloads\\anaconda_god\\envs\\aravind\\lib\\site-packages (from notebook>=4.4.1->widgetsnbextension~=3.5.0->ipywidgets>=7.0.0->pydeck>=0.1.dev5->streamlit) (0.12.0)\n",
      "Requirement already satisfied: terminado>=0.8.3 in d:\\downloads\\anaconda_god\\envs\\aravind\\lib\\site-packages (from notebook>=4.4.1->widgetsnbextension~=3.5.0->ipywidgets>=7.0.0->pydeck>=0.1.dev5->streamlit) (0.9.4)\n",
      "Requirement already satisfied: Send2Trash>=1.8.0 in d:\\downloads\\anaconda_god\\envs\\aravind\\lib\\site-packages (from notebook>=4.4.1->widgetsnbextension~=3.5.0->ipywidgets>=7.0.0->pydeck>=0.1.dev5->streamlit) (1.8.0)\n",
      "Requirement already satisfied: argon2-cffi in d:\\downloads\\anaconda_god\\envs\\aravind\\lib\\site-packages (from notebook>=4.4.1->widgetsnbextension~=3.5.0->ipywidgets>=7.0.0->pydeck>=0.1.dev5->streamlit) (20.1.0)\n",
      "Requirement already satisfied: nbconvert in d:\\downloads\\anaconda_god\\envs\\aravind\\lib\\site-packages (from notebook>=4.4.1->widgetsnbextension~=3.5.0->ipywidgets>=7.0.0->pydeck>=0.1.dev5->streamlit) (6.1.0)\n",
      "Requirement already satisfied: pywinpty>=0.5 in d:\\downloads\\anaconda_god\\envs\\aravind\\lib\\site-packages (from terminado>=0.8.3->notebook>=4.4.1->widgetsnbextension~=3.5.0->ipywidgets>=7.0.0->pydeck>=0.1.dev5->streamlit) (0.5.7)\n",
      "Requirement already satisfied: cffi>=1.0.0 in d:\\downloads\\anaconda_god\\envs\\aravind\\lib\\site-packages (from argon2-cffi->notebook>=4.4.1->widgetsnbextension~=3.5.0->ipywidgets>=7.0.0->pydeck>=0.1.dev5->streamlit) (1.15.0)\n",
      "Requirement already satisfied: pycparser in d:\\downloads\\anaconda_god\\envs\\aravind\\lib\\site-packages (from cffi>=1.0.0->argon2-cffi->notebook>=4.4.1->widgetsnbextension~=3.5.0->ipywidgets>=7.0.0->pydeck>=0.1.dev5->streamlit) (2.21)\n",
      "Requirement already satisfied: nbclient<0.6.0,>=0.5.0 in d:\\downloads\\anaconda_god\\envs\\aravind\\lib\\site-packages (from nbconvert->notebook>=4.4.1->widgetsnbextension~=3.5.0->ipywidgets>=7.0.0->pydeck>=0.1.dev5->streamlit) (0.5.3)\n",
      "Requirement already satisfied: jupyterlab-pygments in d:\\downloads\\anaconda_god\\envs\\aravind\\lib\\site-packages (from nbconvert->notebook>=4.4.1->widgetsnbextension~=3.5.0->ipywidgets>=7.0.0->pydeck>=0.1.dev5->streamlit) (0.1.2)\n",
      "Requirement already satisfied: mistune<2,>=0.8.1 in d:\\downloads\\anaconda_god\\envs\\aravind\\lib\\site-packages (from nbconvert->notebook>=4.4.1->widgetsnbextension~=3.5.0->ipywidgets>=7.0.0->pydeck>=0.1.dev5->streamlit) (0.8.4)\n",
      "Requirement already satisfied: pandocfilters>=1.4.1 in d:\\downloads\\anaconda_god\\envs\\aravind\\lib\\site-packages (from nbconvert->notebook>=4.4.1->widgetsnbextension~=3.5.0->ipywidgets>=7.0.0->pydeck>=0.1.dev5->streamlit) (1.4.3)\n",
      "Requirement already satisfied: defusedxml in d:\\downloads\\anaconda_god\\envs\\aravind\\lib\\site-packages (from nbconvert->notebook>=4.4.1->widgetsnbextension~=3.5.0->ipywidgets>=7.0.0->pydeck>=0.1.dev5->streamlit) (0.7.1)\n",
      "Requirement already satisfied: testpath in d:\\downloads\\anaconda_god\\envs\\aravind\\lib\\site-packages (from nbconvert->notebook>=4.4.1->widgetsnbextension~=3.5.0->ipywidgets>=7.0.0->pydeck>=0.1.dev5->streamlit) (0.5.0)\n",
      "Requirement already satisfied: bleach in d:\\downloads\\anaconda_god\\envs\\aravind\\lib\\site-packages (from nbconvert->notebook>=4.4.1->widgetsnbextension~=3.5.0->ipywidgets>=7.0.0->pydeck>=0.1.dev5->streamlit) (4.0.0)\n",
      "Requirement already satisfied: async-generator in d:\\downloads\\anaconda_god\\envs\\aravind\\lib\\site-packages (from nbclient<0.6.0,>=0.5.0->nbconvert->notebook>=4.4.1->widgetsnbextension~=3.5.0->ipywidgets>=7.0.0->pydeck>=0.1.dev5->streamlit) (1.10)\n",
      "Requirement already satisfied: webencodings in d:\\downloads\\anaconda_god\\envs\\aravind\\lib\\site-packages (from bleach->nbconvert->notebook>=4.4.1->widgetsnbextension~=3.5.0->ipywidgets>=7.0.0->pydeck>=0.1.dev5->streamlit) (0.5.1)\n",
      "Requirement already satisfied: pyparsing!=3.0.5,>=2.0.2 in d:\\downloads\\anaconda_god\\envs\\aravind\\lib\\site-packages (from packaging->streamlit) (3.0.4)\n",
      "Requirement already satisfied: idna<4,>=2.5 in d:\\downloads\\anaconda_god\\envs\\aravind\\lib\\site-packages (from requests->streamlit) (3.3)\n",
      "Requirement already satisfied: charset-normalizer~=2.0.0 in d:\\downloads\\anaconda_god\\envs\\aravind\\lib\\site-packages (from requests->streamlit) (2.0.10)\n",
      "Requirement already satisfied: urllib3<1.27,>=1.21.1 in d:\\downloads\\anaconda_god\\envs\\aravind\\lib\\site-packages (from requests->streamlit) (1.26.8)\n",
      "Requirement already satisfied: certifi>=2017.4.17 in d:\\downloads\\anaconda_god\\envs\\aravind\\lib\\site-packages (from requests->streamlit) (2021.10.8)\n",
      "Requirement already satisfied: pytz-deprecation-shim in d:\\downloads\\anaconda_god\\envs\\aravind\\lib\\site-packages (from tzlocal->streamlit) (0.1.0.post0)\n",
      "Requirement already satisfied: tzdata in d:\\downloads\\anaconda_god\\envs\\aravind\\lib\\site-packages (from tzlocal->streamlit) (2021.5)\n"
     ]
    },
    {
     "name": "stderr",
     "output_type": "stream",
     "text": [
      "WARNING: Ignoring invalid distribution -illow (d:\\downloads\\anaconda_god\\envs\\aravind\\lib\\site-packages)\n",
      "WARNING: Ignoring invalid distribution -illow (d:\\downloads\\anaconda_god\\envs\\aravind\\lib\\site-packages)\n",
      "WARNING: Ignoring invalid distribution -illow (d:\\downloads\\anaconda_god\\envs\\aravind\\lib\\site-packages)\n",
      "WARNING: Ignoring invalid distribution -illow (d:\\downloads\\anaconda_god\\envs\\aravind\\lib\\site-packages)\n",
      "WARNING: Ignoring invalid distribution -illow (d:\\downloads\\anaconda_god\\envs\\aravind\\lib\\site-packages)\n",
      "WARNING: Ignoring invalid distribution -illow (d:\\downloads\\anaconda_god\\envs\\aravind\\lib\\site-packages)\n"
     ]
    }
   ],
   "source": [
    "!pip install streamlit"
   ]
  },
  {
   "cell_type": "code",
   "execution_count": 2,
   "id": "b57ad0b2-75fd-4637-91f0-9aa597e49367",
   "metadata": {},
   "outputs": [
    {
     "name": "stderr",
     "output_type": "stream",
     "text": [
      "2022-08-25 04:11:55.247 \n",
      "  \u001b[33m\u001b[1mWarning:\u001b[0m to view this Streamlit app on a browser, run it with the following\n",
      "  command:\n",
      "\n",
      "    streamlit run D:\\Downloads\\Anaconda_God\\envs\\aravind\\lib\\site-packages\\ipykernel_launcher.py [ARGUMENTS]\n"
     ]
    }
   ],
   "source": [
    "import streamlit as st \n",
    "\n",
    "\n",
    "st.write(\"\"\" \n",
    "# Question Generation Applicaition \n",
    "\n",
    "Giver your text here to get the question \n",
    "\"\"\" ) "
   ]
  },
  {
   "cell_type": "code",
   "execution_count": null,
   "id": "64856cdd-1caf-4a89-a1ce-6d244edd40e5",
   "metadata": {},
   "outputs": [],
   "source": []
  }
 ],
 "metadata": {
  "kernelspec": {
   "display_name": "Python 3 (ipykernel)",
   "language": "python",
   "name": "python3"
  },
  "language_info": {
   "codemirror_mode": {
    "name": "ipython",
    "version": 3
   },
   "file_extension": ".py",
   "mimetype": "text/x-python",
   "name": "python",
   "nbconvert_exporter": "python",
   "pygments_lexer": "ipython3",
   "version": "3.9.7"
  }
 },
 "nbformat": 4,
 "nbformat_minor": 5
}
